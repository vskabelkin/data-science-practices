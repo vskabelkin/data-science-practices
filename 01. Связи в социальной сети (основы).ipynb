{
 "cells": [
  {
   "cell_type": "code",
   "execution_count": 24,
   "metadata": {
    "collapsed": true
   },
   "outputs": [],
   "source": [
    "import matplotlib as mpl\n",
    "\n",
    "from matplotlib import pyplot as plt\n",
    "mpl.style.use('ggplot')\n",
    "\n",
    "##########################\n",
    "#                        #\n",
    "# ПОИСК КЛЮЧЕВЫХ ЗВЕНЬЕВ #\n",
    "#                        #\n",
    "##########################\n",
    "\n",
    "users = [\n",
    "    { \"id\": 0, \"name\": \"Hero\" },\n",
    "    { \"id\": 1, \"name\": \"Dunn\" },\n",
    "    { \"id\": 2, \"name\": \"Sue\" },\n",
    "    { \"id\": 3, \"name\": \"Chi\" },\n",
    "    { \"id\": 4, \"name\": \"Thor\" },\n",
    "    { \"id\": 5, \"name\": \"Clive\" },\n",
    "    { \"id\": 6, \"name\": \"Hicks\" },\n",
    "    { \"id\": 7, \"name\": \"Devin\" },\n",
    "    { \"id\": 8, \"name\": \"Kate\" },\n",
    "    { \"id\": 9, \"name\": \"Klein\" },\n",
    "    { \"id\": 10, \"name\": \"Jen\" }\n",
    "]\n",
    "\n",
    "friendships = [(0, 1), (0, 2), (1, 2), (1, 3), (2, 3), (3, 4),\n",
    "               (4, 5), (5, 6), (5, 7), (6, 8), (7, 8), (8, 9)]"
   ]
  },
  {
   "cell_type": "code",
   "execution_count": 25,
   "metadata": {
    "collapsed": true
   },
   "outputs": [],
   "source": [
    "# сначала назначим каждому пользователю пустой список\n",
    "# свойство friends содержит друзей для пользователя user\n",
    "for user in users:\n",
    "    user[\"friends\"] = []"
   ]
  },
  {
   "cell_type": "code",
   "execution_count": 26,
   "metadata": {
    "collapsed": false
   },
   "outputs": [
    {
     "name": "stdout",
     "output_type": "stream",
     "text": [
      "{'name': 'Hero', 'id': 0, 'friends': []}\n"
     ]
    }
   ],
   "source": [
    "print(users[0])"
   ]
  },
  {
   "cell_type": "code",
   "execution_count": 27,
   "metadata": {
    "collapsed": true
   },
   "outputs": [],
   "source": [
    "# и затем заполним списки друзьями\n",
    "for i, j in friendships:\n",
    "    # это работает, потому что users[i] - это пользователь, чей id равен i\n",
    "    users[i][\"friends\"].append(users[j]) # добавить i как друга для j\n",
    "    users[j][\"friends\"].append(users[i]) # добавить j как друга для i"
   ]
  },
  {
   "cell_type": "code",
   "execution_count": 28,
   "metadata": {
    "collapsed": false
   },
   "outputs": [
    {
     "name": "stdout",
     "output_type": "stream",
     "text": [
      "24\n"
     ]
    }
   ],
   "source": [
    "def number_of_friends(user):\n",
    "    \"\"\"сколько друзей есть у пользователя user?\"\"\"\n",
    "    return len(user[\"friends\"]) # длина списка id друзей\n",
    "\n",
    "total_connections = sum(number_of_friends(user)  # общее число связей\n",
    "                        for user in users)       # 24\n",
    "\n",
    "print(total_connections)"
   ]
  },
  {
   "cell_type": "code",
   "execution_count": 29,
   "metadata": {
    "collapsed": false
   },
   "outputs": [
    {
     "name": "stdout",
     "output_type": "stream",
     "text": [
      "2.1818181818181817\n"
     ]
    }
   ],
   "source": [
    "num_users = len(users)                           # длина списка пользователей\n",
    "avg_connections = total_connections / num_users  # среднее число связей\n",
    "print(avg_connections)"
   ]
  },
  {
   "cell_type": "code",
   "execution_count": 36,
   "metadata": {
    "collapsed": false
   },
   "outputs": [
    {
     "name": "stdout",
     "output_type": "stream",
     "text": [
      "[(1, 3), (2, 3), (3, 3), (5, 3), (8, 3), (0, 2), (4, 2), (6, 2), (7, 2), (9, 1), (10, 0)]\n"
     ]
    }
   ],
   "source": [
    "# число друзей для каждого id\n",
    "num_friends_by_id = [(user[\"id\"], number_of_friends(user))\n",
    "                    for user in users]\n",
    "\n",
    "# пользователи, отсортированные по количеству друзей\n",
    "print(sorted(num_friends_by_id, key=lambda pair: pair[1], reverse=True))"
   ]
  },
  {
   "cell_type": "code",
   "execution_count": 40,
   "metadata": {
    "collapsed": true
   },
   "outputs": [],
   "source": [
    "######################################\n",
    "#                                    #\n",
    "#   ДРУЗЬЯ, КОТОРЫХ ВЫ ДОЛЖНЫ ЗНАТЬ  #\n",
    "#                                    #\n",
    "######################################\n",
    "\n",
    "# счётчик взаимных друзей\n",
    "\n",
    "from collections import Counter \n",
    "\n",
    "# не тот же самый\n",
    "def not_the_same(user, other_user):\n",
    "    \"\"\"два пользователя не одинаковые, если их ключи имеют разные id\"\"\"\n",
    "    return user[\"id\"] != other_user[\"id\"]\n",
    "\n",
    "# не друзья\n",
    "def not_friends(user, other_user):\n",
    "    \"\"\"other_user - не друг, если он не принадлежит user[\"friends\"], т. е.\n",
    "    если он not_the_same (не тот же что и все люди в user[\"friends\"])\"\"\"\n",
    "    return all(not_the_same(friend, other_user)\n",
    "               for friend in user[\"friends\"])\n",
    "\n",
    "# список id друзей пользователя user\n",
    "def friends_of_friend_ids(user):\n",
    "    return Counter(foaf[\"id\"]\n",
    "                   for friend in user[\"friends\"]  # для каждого моего друга\n",
    "                   for foaf in friend[\"friends\"]  # подсчитать ИХ друзей,\n",
    "                   if not_the_same(user, foaf)    # которые не являются мной\n",
    "                   and not_friends(user, foaf))   # и не мои друзья"
   ]
  },
  {
   "cell_type": "code",
   "execution_count": 41,
   "metadata": {
    "collapsed": false
   },
   "outputs": [
    {
     "name": "stdout",
     "output_type": "stream",
     "text": [
      "Counter({0: 2, 5: 1})\n"
     ]
    }
   ],
   "source": [
    "print(friends_of_friend_ids(users[3])) # Counter({0: 2, 5: 1})"
   ]
  },
  {
   "cell_type": "code",
   "execution_count": 42,
   "metadata": {
    "collapsed": false
   },
   "outputs": [
    {
     "data": {
      "text/plain": [
       "[2, 3, 5]"
      ]
     },
     "execution_count": 42,
     "metadata": {},
     "output_type": "execute_result"
    }
   ],
   "source": [
    "# интересующие темы\n",
    "interests = [\n",
    "    (0, \"Hadoop\"), (0, \"Big Data\"), (0, \"HBase\"), (0, \"Java\"),\n",
    "    (0, \"Spark\"), (0, \"Storm\"), (0, \"Cassandra\"),\n",
    "    (1, \"NoSQL\"), (1, \"MongoDB\"), (1, \"Cassandra\"), (1, \"HBase\"),\n",
    "    (1, \"Postgres\"), (2, \"Python\"), (2, \"scikit-learn\"), (2, \"scipy\"),\n",
    "    (2, \"numpy\"), (2, \"statsmodels\"), (2, \"pandas\"), (3, \"R\"), (3, \"Python\"),\n",
    "    (3, \"statistics\"), (3, \"regression\"), (3, \"probability\"),\n",
    "    (4, \"machine learning\"), (4, \"regression\"), (4, \"decision trees\"),\n",
    "    (4, \"libsvm\"), (5, \"Python\"), (5, \"R\"), (5, \"Java\"), (5, \"C++\"),\n",
    "    (5, \"Haskell\"), (5, \"programming languages\"), (6, \"statistics\"),\n",
    "    (6, \"probability\"), (6, \"mathematics\"), (6, \"theory\"),\n",
    "    (7, \"machine learning\"), (7, \"scikit-learn\"), (7, \"Mahout\"),\n",
    "    (7, \"neural networks\"), (8, \"neural networks\"), (8, \"deep learning\"),\n",
    "    (8, \"Big Data\"), (8, \"artificial intelligence\"), (9, \"Hadoop\"),\n",
    "    (9, \"Java\"), (9, \"MapReduce\"), (9, \"Big Data\")\n",
    "]\n",
    "\n",
    "# аналитики, которым нравится целевая тема target_interest (not optimized)\n",
    "def data_scientists_who_like(target_interest):\n",
    "    return [user_id\n",
    "            for user_id, user_interest in interests\n",
    "            if user_interest == target_interest]\n",
    "\n",
    "data_scientists_who_like(\"Python\")"
   ]
  },
  {
   "cell_type": "code",
   "execution_count": 43,
   "metadata": {
    "collapsed": false
   },
   "outputs": [
    {
     "name": "stdout",
     "output_type": "stream",
     "text": [
      "defaultdict(<class 'list'>, {'probability': [3, 6], 'Postgres': [1], 'Haskell': [5], 'Cassandra': [0, 1], 'R': [3, 5], 'NoSQL': [1], 'mathematics': [6], 'Hadoop': [0, 9], 'pandas': [2], 'C++': [5], 'neural networks': [7, 8], 'Java': [0, 5, 9], 'scikit-learn': [2, 7], 'numpy': [2], 'statsmodels': [2], 'MongoDB': [1], 'programming languages': [5], 'statistics': [3, 6], 'Storm': [0], 'libsvm': [4], 'Python': [2, 3, 5], 'scipy': [2], 'decision trees': [4], 'regression': [3, 4], 'MapReduce': [9], 'Big Data': [0, 8, 9], 'Spark': [0], 'artificial intelligence': [8], 'deep learning': [8], 'Mahout': [7], 'HBase': [0, 1], 'machine learning': [4, 7], 'theory': [6]})\n"
     ]
    }
   ],
   "source": [
    "from collections import defaultdict\n",
    "\n",
    "# id пользователей по значению темы\n",
    "# ключи - это интересующие темы,\n",
    "# значения - это списки из id пользователей, интересующихся этой темой\n",
    "user_ids_by_interest = defaultdict(list)\n",
    "\n",
    "for user_id, interest in interests:\n",
    "    user_ids_by_interest[interest].append(user_id)\n",
    "    \n",
    "print(user_ids_by_interest)"
   ]
  },
  {
   "cell_type": "code",
   "execution_count": 45,
   "metadata": {
    "collapsed": false
   },
   "outputs": [
    {
     "name": "stdout",
     "output_type": "stream",
     "text": [
      "defaultdict(<class 'list'>, {0: ['Hadoop', 'Big Data', 'HBase', 'Java', 'Spark', 'Storm', 'Cassandra'], 1: ['NoSQL', 'MongoDB', 'Cassandra', 'HBase', 'Postgres'], 2: ['Python', 'scikit-learn', 'scipy', 'numpy', 'statsmodels', 'pandas'], 3: ['R', 'Python', 'statistics', 'regression', 'probability'], 4: ['machine learning', 'regression', 'decision trees', 'libsvm'], 5: ['Python', 'R', 'Java', 'C++', 'Haskell', 'programming languages'], 6: ['statistics', 'probability', 'mathematics', 'theory'], 7: ['machine learning', 'scikit-learn', 'Mahout', 'neural networks'], 8: ['neural networks', 'deep learning', 'Big Data', 'artificial intelligence'], 9: ['Hadoop', 'Java', 'MapReduce', 'Big Data']})\n"
     ]
    }
   ],
   "source": [
    "# идентификаторы тем по идентификатору пользователя\n",
    "# ключи - это id пользователей, значения - списки тем для конкретного id\n",
    "interests_by_user_id = defaultdict(list)\n",
    "\n",
    "for user_id, interest in interests:\n",
    "    interests_by_user_id[user_id].append(interest)\n",
    "    \n",
    "print(interests_by_user_id)"
   ]
  },
  {
   "cell_type": "code",
   "execution_count": 49,
   "metadata": {
    "collapsed": false
   },
   "outputs": [
    {
     "data": {
      "text/plain": [
       "Counter({0: 1, 2: 1, 3: 2, 9: 1})"
      ]
     },
     "execution_count": 49,
     "metadata": {},
     "output_type": "execute_result"
    }
   ],
   "source": [
    "# наиболее общие интересующие темы с пользователем user\n",
    "def most_common_interests_with(user):\n",
    "    return Counter(interested_user_id\n",
    "        for interest in interests_by_user_id[user[\"id\"]]\n",
    "        for interested_user_id in user_ids_by_interest[interest]\n",
    "        if interested_user_id != user[\"id\"])\n",
    "\n",
    "most_common_interests_with(users[5])"
   ]
  },
  {
   "cell_type": "code",
   "execution_count": 50,
   "metadata": {
    "collapsed": false
   },
   "outputs": [
    {
     "data": {
      "image/png": "[encoded data removed]",
      "text/plain": [
       "<matplotlib.figure.Figure at 0x7cbc4e0>"
      ]
     },
     "metadata": {},
     "output_type": "display_data"
    }
   ],
   "source": [
    "##########################\n",
    "#                        #\n",
    "# ЗАРПЛАТЫ И ОПЫТ РАБОТЫ #\n",
    "#                        #\n",
    "##########################\n",
    "\n",
    "# зарплаты и стаж\n",
    "salaries_and_tenures = [(83000, 8.7), (88000, 8.1),\n",
    "                        (48000, 0.7), (76000, 6),\n",
    "                        (69000, 6.5), (76000, 7.5),\n",
    "                        (60000, 2.5), (83000, 10),\n",
    "                        (48000, 1.9), (63000, 4.2)]\n",
    "\n",
    "# Зависимость заработной платы от опыта работы\n",
    "def make_chart_salaries_by_tenure():\n",
    "    tenures = [tenure for salary, tenure in salaries_and_tenures]\n",
    "    salaries = [salary for salary, tenure in salaries_and_tenures]\n",
    "    plt.scatter(tenures, salaries)\n",
    "    plt.xlabel(\"tenure\")\n",
    "    plt.ylabel(\"salary\")\n",
    "    plt.show()\n",
    "    \n",
    "make_chart_salaries_by_tenure()    "
   ]
  },
  {
   "cell_type": "code",
   "execution_count": 51,
   "metadata": {
    "collapsed": false
   },
   "outputs": [
    {
     "data": {
      "text/plain": [
       "{0.7: 48000.0,\n",
       " 1.9: 48000.0,\n",
       " 2.5: 60000.0,\n",
       " 4.2: 63000.0,\n",
       " 6: 76000.0,\n",
       " 6.5: 69000.0,\n",
       " 7.5: 76000.0,\n",
       " 8.1: 88000.0,\n",
       " 8.7: 83000.0,\n",
       " 10: 83000.0}"
      ]
     },
     "execution_count": 51,
     "metadata": {},
     "output_type": "execute_result"
    }
   ],
   "source": [
    "# зарплата в зависимости от стажа\n",
    "# ключи - это годы, значения - это списки зарплат для каждого стажа\n",
    "salary_by_tenure = defaultdict(list)\n",
    "\n",
    "for salary, tenure in salaries_and_tenures:\n",
    "    salary_by_tenure[tenure].append(salary)\n",
    "\n",
    "# средняя зарплата в зависимости от стажа\n",
    "# ключи - это годы, каждое значение - это средняя зарплата по этому стажу\n",
    "average_salary_by_tenure = {\n",
    "    tenure : sum(salaries) / len(salaries)\n",
    "    for tenure, salaries in salary_by_tenure.items()\n",
    "}\n",
    "\n",
    "average_salary_by_tenure"
   ]
  },
  {
   "cell_type": "code",
   "execution_count": 52,
   "metadata": {
    "collapsed": false
   },
   "outputs": [
    {
     "data": {
      "text/plain": [
       "{'более пяти': 79166.66666666667,\n",
       " 'между двумя и пятью': 61500.0,\n",
       " 'менее двух': 48000.0}"
      ]
     },
     "execution_count": 52,
     "metadata": {},
     "output_type": "execute_result"
    }
   ],
   "source": [
    "# стажная группа\n",
    "def tenure_bucket(tenure):\n",
    "    if tenure < 2: return \"менее двух\"\n",
    "    elif tenure < 5: return \"между двумя и пятью\"\n",
    "    else: return \"более пяти\"\n",
    "\n",
    "salary_by_tenure_bucket = defaultdict(list)\n",
    "\n",
    "# зарплата в зависимости от стажной группы\n",
    "# ключи = стажные группы, значения = списки зарплат в этой группе\n",
    "# словарь содержит списки зарплат, соответствующие каждой стажной группе\n",
    "for salary, tenure in salaries_and_tenures:\n",
    "    bucket = tenure_bucket(tenure)\n",
    "    salary_by_tenure_bucket[bucket].append(salary)\n",
    "\n",
    "# средняя зарплата по группе\n",
    "# ключи = стажные группы, значения = средняя зарплата по этой группе\n",
    "average_salary_by_bucket = {\n",
    "  tenure_bucket : sum(salaries) / len(salaries)\n",
    "  for tenure_bucket, salaries in salary_by_tenure_bucket.items()\n",
    "}\n",
    "\n",
    "average_salary_by_bucket"
   ]
  },
  {
   "cell_type": "code",
   "execution_count": 53,
   "metadata": {
    "collapsed": true
   },
   "outputs": [],
   "source": [
    "############################\n",
    "#                          #\n",
    "# ОПЛАТА ПРЕМИУМ-АККАУНТОВ #\n",
    "#                          #\n",
    "############################\n",
    "\n",
    "# предсказать платежи, исходя из стажа\n",
    "def predict_paid_or_unpaid(years_experience):\n",
    "    if years_experience < 3.0: return \"оплачено\"\n",
    "    elif years_experience < 8.5: return \"не оплачено\"\n",
    "    else: return \"оплачено\""
   ]
  },
  {
   "cell_type": "code",
   "execution_count": 58,
   "metadata": {
    "collapsed": false
   },
   "outputs": [
    {
     "name": "stdout",
     "output_type": "stream",
     "text": [
      "python 3\n",
      "data 3\n",
      "learning 3\n",
      "big 3\n",
      "java 3\n",
      "probability 2\n",
      "networks 2\n",
      "machine 2\n",
      "scikit-learn 2\n",
      "statistics 2\n",
      "hbase 2\n",
      "r 2\n",
      "cassandra 2\n",
      "hadoop 2\n",
      "neural 2\n",
      "regression 2\n"
     ]
    }
   ],
   "source": [
    "###################\n",
    "#                 #\n",
    "# ПОПУЛЯРНЫЕ ТЕМЫ #\n",
    "#                 #\n",
    "###################\n",
    "\n",
    "# слова и частотности\n",
    "words_and_counts = Counter(word\n",
    "                           for user, interest in interests\n",
    "                           for word in interest.lower().split())\n",
    "\n",
    "\n",
    "\n",
    "\n",
    "for word, count in words_and_counts.most_common():\n",
    "    if count > 1:\n",
    "        print(word, count)"
   ]
  }
 ],
 "metadata": {
  "anaconda-cloud": {},
  "kernelspec": {
   "display_name": "Python [conda root]",
   "language": "python",
   "name": "conda-root-py"
  },
  "language_info": {
   "codemirror_mode": {
    "name": "ipython",
    "version": 3
   },
   "file_extension": ".py",
   "mimetype": "text/x-python",
   "name": "python",
   "nbconvert_exporter": "python",
   "pygments_lexer": "ipython3",
   "version": "3.5.2"
  }
 },
 "nbformat": 4,
 "nbformat_minor": 0
}
